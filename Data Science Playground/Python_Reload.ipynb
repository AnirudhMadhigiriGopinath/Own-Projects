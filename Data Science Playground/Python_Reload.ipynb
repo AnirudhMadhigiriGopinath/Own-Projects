{
 "cells": [
  {
   "cell_type": "code",
   "execution_count": 1,
   "metadata": {},
   "outputs": [
    {
     "name": "stdout",
     "output_type": "stream",
     "text": [
      "Welcome to the Calculator Program!\n",
      "Squared Numbers: [1, 4, 9, 16, 25, 36, 49, 64, 81, 100]\n",
      "Odd Numbers: [1, 9, 25, 49, 81]\n",
      "Sum of Numbers: 165\n"
     ]
    }
   ],
   "source": [
    "from functools import reduce\n",
    "\n",
    "# Base class for handling numbers\n",
    "class Mathematics:\n",
    "    def __init__(self, numbers):\n",
    "        self._numbers = numbers  # Protected attribute for encapsulation\n",
    "\n",
    "    def get_numbers(self):\n",
    "        return self._numbers\n",
    "\n",
    "    def set_numbers(self, numbers):\n",
    "        self._numbers = numbers\n",
    "\n",
    "# Derived class for advanced calculations\n",
    "class Calculator(Mathematics):\n",
    "    def __init__(self, numbers):\n",
    "        super().__init__(numbers)  # Call the base class constructor\n",
    "\n",
    "    # Method to square numbers using map and lambda\n",
    "    def square_numbers(self):\n",
    "        squared_numbers = list(map(lambda x: x**2, self.get_numbers()))\n",
    "        self.set_numbers(squared_numbers)\n",
    "        return squared_numbers\n",
    "\n",
    "    # Method to filter odd numbers using filter and lambda\n",
    "    def filter_odd_numbers(self):\n",
    "        odd_numbers = list(filter(lambda x: x % 2 != 0, self.get_numbers()))\n",
    "        self.set_numbers(odd_numbers)\n",
    "        return odd_numbers\n",
    "\n",
    "    # Method to reduce numbers to their sum using reduce and lambda\n",
    "    def reduce_sum(self):\n",
    "        return reduce(lambda x, y: x + y, self.get_numbers())\n",
    "\n",
    "    # Static method for a general utility\n",
    "    @staticmethod\n",
    "    def display_message():\n",
    "        print(\"Welcome to the Calculator Program!\")\n",
    "\n",
    "# Main Program\n",
    "if __name__ == \"__main__\":\n",
    "    Calculator.display_message()  # Call static method\n",
    "\n",
    "    # Input numbers\n",
    "    numbers = [1, 2, 3, 4, 5, 6, 7, 8, 9, 10]\n",
    "    calculator = Calculator(numbers)\n",
    "\n",
    "    # Perform operations and display results\n",
    "    print(f\"Squared Numbers: {calculator.square_numbers()}\")\n",
    "    print(f\"Odd Numbers: {calculator.filter_odd_numbers()}\")\n",
    "    print(f\"Sum of Numbers: {calculator.reduce_sum()}\")\n"
   ]
  }
 ],
 "metadata": {
  "kernelspec": {
   "display_name": "Python 3",
   "language": "python",
   "name": "python3"
  },
  "language_info": {
   "codemirror_mode": {
    "name": "ipython",
    "version": 3
   },
   "file_extension": ".py",
   "mimetype": "text/x-python",
   "name": "python",
   "nbconvert_exporter": "python",
   "pygments_lexer": "ipython3",
   "version": "3.11.2"
  }
 },
 "nbformat": 4,
 "nbformat_minor": 2
}
